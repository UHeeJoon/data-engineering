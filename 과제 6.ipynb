{
 "cells": [
  {
   "cell_type": "code",
   "execution_count": null,
   "id": "2f0fe8d6",
   "metadata": {},
   "outputs": [],
   "source": [
    "import numpy as np  \n",
    "import matplotlib.pyplot as plt  \n",
    "from mpl_toolkits.axes_grid1 import make_axes_locatable"
   ]
  },
  {
   "cell_type": "code",
   "execution_count": 18,
   "id": "44342674",
   "metadata": {},
   "outputs": [
    {
     "data": {
      "text/plain": [
       "<contextlib.ExitStack at 0x1c29cb534f0>"
      ]
     },
     "execution_count": 18,
     "metadata": {},
     "output_type": "execute_result"
    }
   ],
   "source": [
    "%matplotlib qt5\n",
    "%config InlineBackend.figure_format = 'svg'\n",
    "\n",
    "plt.rcParams['figure.figsize'] = [12, 5]\n",
    "plt.rcParams['font.size'] = 13\n",
    "plt.ion()"
   ]
  },
  {
   "cell_type": "code",
   "execution_count": 19,
   "id": "29177794",
   "metadata": {},
   "outputs": [
    {
     "data": {
      "text/plain": [
       "-1"
      ]
     },
     "execution_count": 19,
     "metadata": {},
     "output_type": "execute_result"
    }
   ],
   "source": [
    "def f(z) :\n",
    "    return np.power(z, 2) - 1\n",
    "f(0)"
   ]
  },
  {
   "cell_type": "code",
   "execution_count": 20,
   "id": "c0d9d097",
   "metadata": {},
   "outputs": [
    {
     "name": "stdout",
     "output_type": "stream",
     "text": [
      "(-0.040000000000000036-0.4j)\n"
     ]
    },
    {
     "data": {
      "text/plain": [
       "array([15.  +0.j , -0.04-0.4j,  1.56+0.j ])"
      ]
     },
     "execution_count": 20,
     "metadata": {},
     "output_type": "execute_result"
    }
   ],
   "source": [
    "z = [4, 1-0.2j, 1.6]\n",
    "print(z[1]**2 -1)\n",
    "f(z)"
   ]
  },
  {
   "cell_type": "code",
   "execution_count": 21,
   "id": "77d826a0",
   "metadata": {},
   "outputs": [
    {
     "data": {
      "text/plain": [
       "(array([[-10.        ,  -9.59183673,  -9.18367347, ...,   9.18367347,\n",
       "           9.59183673,  10.        ],\n",
       "        [-10.        ,  -9.59183673,  -9.18367347, ...,   9.18367347,\n",
       "           9.59183673,  10.        ],\n",
       "        [-10.        ,  -9.59183673,  -9.18367347, ...,   9.18367347,\n",
       "           9.59183673,  10.        ],\n",
       "        ...,\n",
       "        [-10.        ,  -9.59183673,  -9.18367347, ...,   9.18367347,\n",
       "           9.59183673,  10.        ],\n",
       "        [-10.        ,  -9.59183673,  -9.18367347, ...,   9.18367347,\n",
       "           9.59183673,  10.        ],\n",
       "        [-10.        ,  -9.59183673,  -9.18367347, ...,   9.18367347,\n",
       "           9.59183673,  10.        ]]),\n",
       " array([[-10.        , -10.        , -10.        , ..., -10.        ,\n",
       "         -10.        , -10.        ],\n",
       "        [ -9.59183673,  -9.59183673,  -9.59183673, ...,  -9.59183673,\n",
       "          -9.59183673,  -9.59183673],\n",
       "        [ -9.18367347,  -9.18367347,  -9.18367347, ...,  -9.18367347,\n",
       "          -9.18367347,  -9.18367347],\n",
       "        ...,\n",
       "        [  9.18367347,   9.18367347,   9.18367347, ...,   9.18367347,\n",
       "           9.18367347,   9.18367347],\n",
       "        [  9.59183673,   9.59183673,   9.59183673, ...,   9.59183673,\n",
       "           9.59183673,   9.59183673],\n",
       "        [ 10.        ,  10.        ,  10.        , ...,  10.        ,\n",
       "          10.        ,  10.        ]]))"
      ]
     },
     "execution_count": 21,
     "metadata": {},
     "output_type": "execute_result"
    }
   ],
   "source": [
    "x, y = np.meshgrid(np.linspace(-10, 10), np.linspace(-10, 10))\n",
    "x, y"
   ]
  },
  {
   "cell_type": "code",
   "execution_count": 22,
   "id": "7888daab",
   "metadata": {},
   "outputs": [
    {
     "data": {
      "text/plain": [
       "array([[-10.        -10.j        ,  -9.59183673-10.j        ,\n",
       "         -9.18367347-10.j        , ...,   9.18367347-10.j        ,\n",
       "          9.59183673-10.j        ,  10.        -10.j        ],\n",
       "       [-10.         -9.59183673j,  -9.59183673 -9.59183673j,\n",
       "         -9.18367347 -9.59183673j, ...,   9.18367347 -9.59183673j,\n",
       "          9.59183673 -9.59183673j,  10.         -9.59183673j],\n",
       "       [-10.         -9.18367347j,  -9.59183673 -9.18367347j,\n",
       "         -9.18367347 -9.18367347j, ...,   9.18367347 -9.18367347j,\n",
       "          9.59183673 -9.18367347j,  10.         -9.18367347j],\n",
       "       ...,\n",
       "       [-10.         +9.18367347j,  -9.59183673 +9.18367347j,\n",
       "         -9.18367347 +9.18367347j, ...,   9.18367347 +9.18367347j,\n",
       "          9.59183673 +9.18367347j,  10.         +9.18367347j],\n",
       "       [-10.         +9.59183673j,  -9.59183673 +9.59183673j,\n",
       "         -9.18367347 +9.59183673j, ...,   9.18367347 +9.59183673j,\n",
       "          9.59183673 +9.59183673j,  10.         +9.59183673j],\n",
       "       [-10.        +10.j        ,  -9.59183673+10.j        ,\n",
       "         -9.18367347+10.j        , ...,   9.18367347+10.j        ,\n",
       "          9.59183673+10.j        ,  10.        +10.j        ]])"
      ]
     },
     "execution_count": 22,
     "metadata": {},
     "output_type": "execute_result"
    }
   ],
   "source": [
    "mesh = y * 1j + x\n",
    "mesh"
   ]
  },
  {
   "cell_type": "code",
   "execution_count": 23,
   "id": "2d8af07f",
   "metadata": {},
   "outputs": [
    {
     "data": {
      "text/plain": [
       "array([[200.00249998, 192.04757956, 184.42750249, ..., 184.42750249,\n",
       "        192.04757956, 200.00249998],\n",
       "       [191.96428351, 184.00938116, 176.38947737, ..., 176.38947737,\n",
       "        184.00938116, 191.96428351],\n",
       "       [184.25759987, 176.30256331, 168.68268096, ..., 168.68268096,\n",
       "        176.30256331, 184.25759987],\n",
       "       ...,\n",
       "       [184.25759987, 176.30256331, 168.68268096, ..., 168.68268096,\n",
       "        176.30256331, 184.25759987],\n",
       "       [191.96428351, 184.00938116, 176.38947737, ..., 176.38947737,\n",
       "        184.00938116, 191.96428351],\n",
       "       [200.00249998, 192.04757956, 184.42750249, ..., 184.42750249,\n",
       "        192.04757956, 200.00249998]])"
      ]
     },
     "execution_count": 23,
     "metadata": {},
     "output_type": "execute_result"
    }
   ],
   "source": [
    "output = np.abs(f(mesh))\n",
    "output"
   ]
  },
  {
   "cell_type": "code",
   "execution_count": 9,
   "id": "a24d7c9f",
   "metadata": {},
   "outputs": [],
   "source": [
    "fig = plt.figure()\n",
    "ax = plt.axes(projection='3d')\n",
    "\n",
    "ax.scatter(x, y, output, alpha=0.2)\n",
    "\n",
    "ax.set_xlabel('Real axis')      # 실수부\n",
    "ax.set_ylabel('Imaginary axis') # 허수부\n",
    "ax.set_zlabel('Absolute value') # 함수값의 절대값\n",
    "ax.set_title('One Iteration: $f(z) = z^2 - 1$');"
   ]
  },
  {
   "cell_type": "code",
   "execution_count": 10,
   "id": "3c5ae7ad",
   "metadata": {},
   "outputs": [],
   "source": [
    "\n",
    "output = np.abs(f(f(mesh)))\n",
    "\n",
    "ax = plt.axes(projection='3d')\n",
    "\n",
    "ax.scatter(x, y, output, alpha=0.2)\n",
    "\n",
    "ax.set_xlabel('Real axis')\n",
    "ax.set_ylabel('Imaginary axis')\n",
    "ax.set_zlabel('Absolute value')\n",
    "ax.set_title('Two Iterations: $ f(z) = z^2 - 1$');"
   ]
  },
  {
   "cell_type": "code",
   "execution_count": 134,
   "id": "f7737989",
   "metadata": {},
   "outputs": [],
   "source": [
    "selected_values = np.array([0.4 + 0.4j, 0.41 + 0.4j, 0.4 + 0.41j])\n",
    "num_iter = 9\n",
    "\n",
    "outputs = np.zeros(\n",
    "    (num_iter+1, selected_values.shape[0]),  # 10X3 Zero 배열 생성\n",
    "    dtype=complex  # 데이터 타입: 복소수\n",
    ")\n",
    "outputs[0] = selected_values   # 함수 초기 조건\n",
    "\n",
    "for i in range(num_iter):\n",
    "    outputs[i+1] = f(outputs[i])  # 10번 함수 반복하는 동안 각 결과를 저장\n",
    "\n",
    "fig, axes = plt.subplots(1, selected_values.shape[0], figsize=(16, 6))\n",
    "axes[1].set_xlabel('Real axis')\n",
    "axes[0].set_ylabel('Imaginary axis')\n",
    "\n",
    "for ax, data in zip(axes, outputs.T):\n",
    "    cycle = ax.scatter(\n",
    "        data.real,  # 실수부\n",
    "        data.imag,  # 허수부\n",
    "        c=range(data.shape[0]), \n",
    "        alpha=0.6\n",
    "    )\n",
    "    ax.set_title(f'Mapping of iterations on {data[0]}')\n",
    "\n",
    "fig.colorbar(cycle, ax=axes, location='bottom', label='Iteration');"
   ]
  },
  {
   "cell_type": "code",
   "execution_count": null,
   "id": "b05b52c9",
   "metadata": {},
   "outputs": [],
   "source": []
  },
  {
   "cell_type": "code",
   "execution_count": 31,
   "id": "193e6211",
   "metadata": {},
   "outputs": [],
   "source": [
    "def divergence_rate(mesh, num_iter=10, radius=2):\n",
    "\n",
    "    z = mesh.copy()\n",
    "    # 값 별 반복 횟수를 저장\n",
    "    diverge_len = np.zeros(mesh.shape)\n",
    "    # 발산되지 않은 값들에 대해 함수를 반복 적용\n",
    "    for i in range(num_iter):\n",
    "        # [+] 1. Boolean 배열  마스크 생성\n",
    "        conv_mask = np.abs(z) < 2\n",
    "\n",
    "        # [+] 2. 해당 값들에 대한 diverge_len 값 증가\n",
    "        for j in range(len(conv_mask)) :\n",
    "            for k in range(len(conv_mask[j])):\n",
    "                if conv_mask[j][k]:\n",
    "                    diverge_len[j][k] += 1\n",
    "                    # [+] 3. 해당 값들에 대해 함수 적용\n",
    "                    z[j][k] = f(z[j][k])     \n",
    "\n",
    "    return diverge_len"
   ]
  },
  {
   "cell_type": "code",
   "execution_count": 32,
   "id": "ecd11f6d",
   "metadata": {},
   "outputs": [],
   "source": [
    "\n",
    "x, y = np.meshgrid(np.linspace(-2, 2, 400), np.linspace(-2, 2, 400))\n",
    "mesh = x + (1j * y)\n",
    "\n",
    "output = divergence_rate(mesh)\n",
    "\n",
    "fig = plt.figure(figsize=(5, 5))\n",
    "ax = plt.axes()\n",
    "\n",
    "ax.set_title('$f(z) = z^2-1$')\n",
    "ax.set_xlabel('Real axis')\n",
    "ax.set_ylabel('Imaginary axis')\n",
    "\n",
    "im = ax.imshow(output, extent=[-2, 2, -2, 2])\n",
    "divider = make_axes_locatable(ax)\n",
    "cax = divider.append_axes('right', size='5%', pad=0.1)\n",
    "plt.colorbar(im, cax=cax, label='Number of iterations');"
   ]
  }
 ],
 "metadata": {
  "kernelspec": {
   "display_name": "Python 3 (ipykernel)",
   "language": "python",
   "name": "python3"
  },
  "language_info": {
   "codemirror_mode": {
    "name": "ipython",
    "version": 3
   },
   "file_extension": ".py",
   "mimetype": "text/x-python",
   "name": "python",
   "nbconvert_exporter": "python",
   "pygments_lexer": "ipython3",
   "version": "3.10.9"
  }
 },
 "nbformat": 4,
 "nbformat_minor": 5
}
