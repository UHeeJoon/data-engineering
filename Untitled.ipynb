{
 "cells": [
  {
   "cell_type": "code",
   "execution_count": 115,
   "id": "ab0682aa",
   "metadata": {},
   "outputs": [
    {
     "name": "stdout",
     "output_type": "stream",
     "text": [
      "254.0 Lovely Loveseat. Tufted polyester blend on wood. 32 inches high x 40 inches wide x 30 inches deep. Red or white.\n",
      "180.5 Stylish Settee. Faux leather on birch. 29.50 inches high x 54.75 inches wide x 28 inches deep. Black.\n",
      "52.15 Luxurious Lamp. Glass and iron. 36 inches tall. Brown with cream shade.\n",
      "0.088\n",
      "0\n",
      "\n"
     ]
    }
   ],
   "source": [
    "# product price/ description\n",
    "lovely_loveseat_description = \"Lovely Loveseat. Tufted polyester blend on wood. 32 inches high x 40 inches wide x 30 inches deep. Red or white.\"\n",
    "lovely_loveseat_price = 254.00\n",
    "stylish_settee_description = \"Stylish Settee. Faux leather on birch. 29.50 inches high x 54.75 inches wide x 28 inches deep. Black.\"\n",
    "stylish_settee_price = 180.50\n",
    "luxurious_lamp_description = \"Luxurious Lamp. Glass and iron. 36 inches tall. Brown with cream shade.\"\n",
    "luxurious_lamp_price = 52.15\n",
    "# tax\n",
    "sales_tax = 0.088\n",
    "# customer purchase cost\n",
    "customer_one_total = 0\n",
    "# customer purchase itemization\n",
    "customer_one_itemization = \"\"\n",
    "\n",
    "print(lovely_loveseat_price, lovely_loveseat_description)\n",
    "print(stylish_settee_price, stylish_settee_description)\n",
    "print(luxurious_lamp_price, luxurious_lamp_description)\n",
    "print(sales_tax)\n",
    "print(customer_one_total)\n",
    "print(customer_one_itemization)"
   ]
  },
  {
   "cell_type": "code",
   "execution_count": 116,
   "id": "7773fed0",
   "metadata": {},
   "outputs": [
    {
     "name": "stdout",
     "output_type": "stream",
     "text": [
      "Customer One Items: \n",
      " Lovely Loveseat. Tufted polyester blend on wood. 32 inches high x 40 inches wide x 30 inches deep. Red or white.Luxurious Lamp. Glass and iron. 36 inches tall. Brown with cream shade.\n",
      "Customer One Total: \n",
      " 333.09119999999996\n"
     ]
    }
   ],
   "source": [
    "# customer decided / purchase lovely loveseat\n",
    "customer_one_total += lovely_loveseat_price\n",
    "customer_one_itemization += lovely_loveseat_description\n",
    "# customer decided / purchase  Luxurious Lamp\n",
    "customer_one_total += luxurious_lamp_price\n",
    "customer_one_itemization += luxurious_lamp_description\n",
    "# check out/ calculate tax\n",
    "customer_one_tax  = customer_one_total * sales_tax\n",
    "customer_one_total += customer_one_tax \n",
    "\n",
    "print(\"Customer One Items:\", '\\n', customer_one_itemization)\n",
    "print(\"Customer One Total:\", '\\n', customer_one_total)"
   ]
  },
  {
   "cell_type": "code",
   "execution_count": null,
   "id": "bafc87ef",
   "metadata": {},
   "outputs": [],
   "source": [
    "# other --mystyle"
   ]
  },
  {
   "cell_type": "code",
   "execution_count": 328,
   "id": "1ffbe2c6",
   "metadata": {},
   "outputs": [],
   "source": [
    "# item info\n",
    "item_lst = [\n",
    "    {\n",
    "        \"lovely_loveseat\": {\n",
    "            \"description\": \"Lovely Loveseat. Tufted polyester blend on wood. 32 inches high x 40 inches wide x 30 inches deep. Red or white.\",\n",
    "            \"price\": 254.00\n",
    "        }\n",
    "    },\n",
    "    {\n",
    "        \"stylish_settee\": {\n",
    "            \"description\": \"Luxurious Lamp. Glass and iron. 36 inches tall. Brown with cream shade.\",\n",
    "            \"price\": 180.50\n",
    "        }\n",
    "    },\n",
    "    {\n",
    "        \"luxurious_lamp\": {\n",
    "            \"description\": \"Luxurious Lamp. Glass and iron. 36 inches tall. Brown with cream shade.\",\n",
    "            \"price\": 52.15\n",
    "        }\n",
    "    }\n",
    "]\n",
    "\n",
    "# find item info list By item name\n",
    "def find_item(objects: [], item_name: str):\n",
    "    return next((obj[item_name] for obj in objects if item_name in obj.keys()), {})\n",
    "\n",
    "# tax\n",
    "sale_tax = 0.088"
   ]
  },
  {
   "cell_type": "code",
   "execution_count": 355,
   "id": "3eb17234",
   "metadata": {},
   "outputs": [
    {
     "name": "stdout",
     "output_type": "stream",
     "text": [
      "Customer One Items: \n",
      "Lovely Loveseat. Tufted polyester blend on wood. 32 inches high x 40 inches wide x 30 inches deep. Red or white.Luxurious Lamp. Glass and iron. 36 inches tall. Brown with cream shade.\n",
      "Customer One Total: \n",
      "333.09119999999996\n"
     ]
    }
   ],
   "source": [
    "# customer\n",
    "class Customer:\n",
    "    def __init__(self, total: int = 0, itemization: [] = [] ):\n",
    "        self.total = total\n",
    "        self.itemization = itemization\n",
    "        \n",
    "    def print_receipt(self, separator: str):\n",
    "        print(f\"Customer One Items: \\n{separator.join(self.itemization)}\")\n",
    "        print(f\"Customer One Total: \\n{self.total + self.__calculate_tax()}\")\n",
    "\n",
    "    def purchase(self, item_list: [], item_name: str ):\n",
    "        item = find_item(item_list, item_name)\n",
    "        if(item == {}) : \n",
    "            print(f\"{item_name} 해당 항목은 없습니다. 다시 한 번 확인해주세요\")\n",
    "            return\n",
    "        self.total += item[\"price\"]\n",
    "        self.itemization.append(item[\"description\"])\n",
    "    \n",
    "    def __calculate_tax(self):\n",
    "        return self.total * sale_tax\n",
    "\n",
    "#  purchase\n",
    "customer = Customer()\n",
    "customer.purchase(item_lst, \"lovely_loveseat\")\n",
    "customer.purchase(item_lst, \"luxurious_lamp\")\n",
    "\n",
    "# print answer\n",
    "customer.print_receipt(\"\")"
   ]
  }
 ],
 "metadata": {
  "kernelspec": {
   "display_name": "Python 3 (ipykernel)",
   "language": "python",
   "name": "python3"
  },
  "language_info": {
   "codemirror_mode": {
    "name": "ipython",
    "version": 3
   },
   "file_extension": ".py",
   "mimetype": "text/x-python",
   "name": "python",
   "nbconvert_exporter": "python",
   "pygments_lexer": "ipython3",
   "version": "3.10.9"
  }
 },
 "nbformat": 4,
 "nbformat_minor": 5
}
